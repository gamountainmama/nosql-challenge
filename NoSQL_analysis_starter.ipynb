{
 "cells": [
  {
   "cell_type": "markdown",
   "id": "9a57c4c6",
   "metadata": {},
   "source": [
    "# Eat Safe, Love"
   ]
  },
  {
   "cell_type": "markdown",
   "id": "064ef857",
   "metadata": {},
   "source": [
    "## Notebook Set Up"
   ]
  },
  {
   "cell_type": "code",
   "execution_count": 37,
   "id": "3ecdd008",
   "metadata": {},
   "outputs": [],
   "source": [
    "# Import dependencies\n",
    "import pymongo\n",
    "import pprint\n",
    "import pandas as pd"
   ]
  },
  {
   "cell_type": "code",
   "execution_count": 11,
   "id": "59390c4a",
   "metadata": {},
   "outputs": [],
   "source": [
    "# Create an instance of MongoClient\n",
    "conn = 'mongodb://localhost:27017'\n",
    "client = pymongo.MongoClient(conn)"
   ]
  },
  {
   "cell_type": "code",
   "execution_count": 12,
   "id": "71e373c1",
   "metadata": {},
   "outputs": [],
   "source": [
    "# assign the uk_food database to a variable name\n",
    "db = client.uk_food"
   ]
  },
  {
   "cell_type": "code",
   "execution_count": 13,
   "id": "18ab463c",
   "metadata": {},
   "outputs": [
    {
     "data": {
      "text/plain": [
       "['establishments']"
      ]
     },
     "execution_count": 13,
     "metadata": {},
     "output_type": "execute_result"
    }
   ],
   "source": [
    "# review the collections in our database\n",
    "cs = db.list_collection_names()\n",
    "cs"
   ]
  },
  {
   "cell_type": "code",
   "execution_count": 14,
   "id": "11c9f11b",
   "metadata": {},
   "outputs": [],
   "source": [
    "# assign the collection to a variable\n",
    "coll = db.establishments"
   ]
  },
  {
   "cell_type": "markdown",
   "id": "d5671434",
   "metadata": {},
   "source": [
    "## Part 3: Exploratory Analysis\n",
    "Unless otherwise stated, for each question: \n",
    "* Use `count_documents` to display the number of documents contained in the result.\n",
    "* Display the first document in the results using `pprint`.\n",
    "* Convert the result to a Pandas DataFrame, print the number of rows in the DataFrame, and display the first 10 rows."
   ]
  },
  {
   "cell_type": "markdown",
   "id": "314bd884",
   "metadata": {},
   "source": [
    "### 1. Which establishments have a hygiene score equal to 20?"
   ]
  },
  {
   "cell_type": "code",
   "execution_count": 181,
   "id": "c2da7648",
   "metadata": {},
   "outputs": [
    {
     "data": {
      "text/plain": [
       "41"
      ]
     },
     "execution_count": 181,
     "metadata": {},
     "output_type": "execute_result"
    }
   ],
   "source": [
    "# Find the establishments with a hygiene score of 20\n",
    "query = coll.find({\"scores.Hygiene\":20})\n",
    "\n",
    "results = []\n",
    "\n",
    "for result in query:\n",
    "    results.append(result)\n",
    "\n",
    "# Use count_documents to display the number of documents in the result\n",
    "coll.count_documents({\"scores.Hygiene\":20})"
   ]
  },
  {
   "cell_type": "code",
   "execution_count": 182,
   "id": "2e716916",
   "metadata": {},
   "outputs": [
    {
     "name": "stdout",
     "output_type": "stream",
     "text": [
      "{'AddressLine1': '5-6 Southfields Road',\n",
      " 'AddressLine2': 'Eastbourne',\n",
      " 'AddressLine3': 'East Sussex',\n",
      " 'AddressLine4': '',\n",
      " 'BusinessName': 'The Chase Rest Home',\n",
      " 'BusinessType': 'Caring Premises',\n",
      " 'BusinessTypeID': 5,\n",
      " 'ChangesByServerID': 0,\n",
      " 'Distance': 4613.888288172291,\n",
      " 'FHRSID': 110681,\n",
      " 'LocalAuthorityBusinessID': '4029',\n",
      " 'LocalAuthorityCode': '102',\n",
      " 'LocalAuthorityEmailAddress': 'Customerfirst@eastbourne.gov.uk',\n",
      " 'LocalAuthorityName': 'Eastbourne',\n",
      " 'LocalAuthorityWebSite': 'http://www.eastbourne.gov.uk/foodratings',\n",
      " 'NewRatingPending': False,\n",
      " 'Phone': '',\n",
      " 'PostCode': 'BN21 1BU',\n",
      " 'RatingDate': '2021-09-23T00:00:00',\n",
      " 'RatingKey': 'fhrs_0_en-gb',\n",
      " 'RatingValue': '0',\n",
      " 'RightToReply': '',\n",
      " 'SchemeType': 'FHRS',\n",
      " '_id': ObjectId('64037f79555fc900eeedfbc8'),\n",
      " 'geocode': {'latitude': Decimal128('50.769705'),\n",
      "             'longitude': Decimal128('0.27694')},\n",
      " 'links': [{'href': 'https://api.ratings.food.gov.uk/establishments/110681',\n",
      "            'rel': 'self'}],\n",
      " 'meta': {'dataSource': None,\n",
      "          'extractDate': '0001-01-01T00:00:00',\n",
      "          'itemCount': 0,\n",
      "          'pageNumber': 0,\n",
      "          'pageSize': 0,\n",
      "          'returncode': None,\n",
      "          'totalCount': 0,\n",
      "          'totalPages': 0},\n",
      " 'scores': {'ConfidenceInManagement': 20, 'Hygiene': 20, 'Structural': 20}}\n"
     ]
    }
   ],
   "source": [
    "# Display the first document in the results using pprint\n",
    "pprint.pprint(results[0])"
   ]
  },
  {
   "cell_type": "code",
   "execution_count": 75,
   "id": "a6e5cece",
   "metadata": {},
   "outputs": [
    {
     "data": {
      "text/plain": [
       "41"
      ]
     },
     "execution_count": 75,
     "metadata": {},
     "output_type": "execute_result"
    }
   ],
   "source": [
    "# Convert the result to a Pandas DataFrame\n",
    "hygiene_df = pd.json_normalize(results)\n",
    "\n",
    "# Display the number of rows in the DataFrame\n",
    "len(hygiene_df.index)"
   ]
  },
  {
   "cell_type": "code",
   "execution_count": 76,
   "id": "8280b679",
   "metadata": {},
   "outputs": [
    {
     "data": {
      "text/html": [
       "<div>\n",
       "<style scoped>\n",
       "    .dataframe tbody tr th:only-of-type {\n",
       "        vertical-align: middle;\n",
       "    }\n",
       "\n",
       "    .dataframe tbody tr th {\n",
       "        vertical-align: top;\n",
       "    }\n",
       "\n",
       "    .dataframe thead th {\n",
       "        text-align: right;\n",
       "    }\n",
       "</style>\n",
       "<table border=\"1\" class=\"dataframe\">\n",
       "  <thead>\n",
       "    <tr style=\"text-align: right;\">\n",
       "      <th></th>\n",
       "      <th>_id</th>\n",
       "      <th>FHRSID</th>\n",
       "      <th>ChangesByServerID</th>\n",
       "      <th>LocalAuthorityBusinessID</th>\n",
       "      <th>BusinessName</th>\n",
       "      <th>BusinessType</th>\n",
       "      <th>BusinessTypeID</th>\n",
       "      <th>AddressLine1</th>\n",
       "      <th>AddressLine2</th>\n",
       "      <th>AddressLine3</th>\n",
       "      <th>...</th>\n",
       "      <th>geocode.longitude</th>\n",
       "      <th>geocode.latitude</th>\n",
       "      <th>meta.dataSource</th>\n",
       "      <th>meta.extractDate</th>\n",
       "      <th>meta.itemCount</th>\n",
       "      <th>meta.returncode</th>\n",
       "      <th>meta.totalCount</th>\n",
       "      <th>meta.totalPages</th>\n",
       "      <th>meta.pageSize</th>\n",
       "      <th>meta.pageNumber</th>\n",
       "    </tr>\n",
       "  </thead>\n",
       "  <tbody>\n",
       "    <tr>\n",
       "      <th>0</th>\n",
       "      <td>64027ca31fa5aca0ae04b9d4</td>\n",
       "      <td>110681</td>\n",
       "      <td>0</td>\n",
       "      <td>4029</td>\n",
       "      <td>The Chase Rest Home</td>\n",
       "      <td>Caring Premises</td>\n",
       "      <td>5</td>\n",
       "      <td>5-6 Southfields Road</td>\n",
       "      <td>Eastbourne</td>\n",
       "      <td>East Sussex</td>\n",
       "      <td>...</td>\n",
       "      <td>0.27694</td>\n",
       "      <td>50.769705</td>\n",
       "      <td>None</td>\n",
       "      <td>0001-01-01T00:00:00</td>\n",
       "      <td>0</td>\n",
       "      <td>None</td>\n",
       "      <td>0</td>\n",
       "      <td>0</td>\n",
       "      <td>0</td>\n",
       "      <td>0</td>\n",
       "    </tr>\n",
       "    <tr>\n",
       "      <th>1</th>\n",
       "      <td>64027ca31fa5aca0ae04bd55</td>\n",
       "      <td>612039</td>\n",
       "      <td>0</td>\n",
       "      <td>1970/FOOD</td>\n",
       "      <td>Brenalwood</td>\n",
       "      <td>Caring Premises</td>\n",
       "      <td>5</td>\n",
       "      <td>Hall Lane</td>\n",
       "      <td>Walton-on-the-Naze</td>\n",
       "      <td>Essex</td>\n",
       "      <td>...</td>\n",
       "      <td>1.278721</td>\n",
       "      <td>51.857536</td>\n",
       "      <td>None</td>\n",
       "      <td>0001-01-01T00:00:00</td>\n",
       "      <td>0</td>\n",
       "      <td>None</td>\n",
       "      <td>0</td>\n",
       "      <td>0</td>\n",
       "      <td>0</td>\n",
       "      <td>0</td>\n",
       "    </tr>\n",
       "    <tr>\n",
       "      <th>2</th>\n",
       "      <td>64027ca31fa5aca0ae04c05f</td>\n",
       "      <td>730933</td>\n",
       "      <td>0</td>\n",
       "      <td>1698/FOOD</td>\n",
       "      <td>Melrose Hotel</td>\n",
       "      <td>Hotel/bed &amp; breakfast/guest house</td>\n",
       "      <td>7842</td>\n",
       "      <td>53 Marine Parade East</td>\n",
       "      <td>Clacton On Sea</td>\n",
       "      <td>Essex</td>\n",
       "      <td>...</td>\n",
       "      <td>1.15927</td>\n",
       "      <td>51.789429</td>\n",
       "      <td>None</td>\n",
       "      <td>0001-01-01T00:00:00</td>\n",
       "      <td>0</td>\n",
       "      <td>None</td>\n",
       "      <td>0</td>\n",
       "      <td>0</td>\n",
       "      <td>0</td>\n",
       "      <td>0</td>\n",
       "    </tr>\n",
       "    <tr>\n",
       "      <th>3</th>\n",
       "      <td>64027ca31fa5aca0ae04c250</td>\n",
       "      <td>172735</td>\n",
       "      <td>0</td>\n",
       "      <td>PI/000023858</td>\n",
       "      <td>Seaford Pizza</td>\n",
       "      <td>Takeaway/sandwich shop</td>\n",
       "      <td>7844</td>\n",
       "      <td>4 High Street</td>\n",
       "      <td>Seaford</td>\n",
       "      <td>East Sussex</td>\n",
       "      <td>...</td>\n",
       "      <td>0.10202</td>\n",
       "      <td>50.770885</td>\n",
       "      <td>None</td>\n",
       "      <td>0001-01-01T00:00:00</td>\n",
       "      <td>0</td>\n",
       "      <td>None</td>\n",
       "      <td>0</td>\n",
       "      <td>0</td>\n",
       "      <td>0</td>\n",
       "      <td>0</td>\n",
       "    </tr>\n",
       "    <tr>\n",
       "      <th>4</th>\n",
       "      <td>64027ca31fa5aca0ae04c25c</td>\n",
       "      <td>172953</td>\n",
       "      <td>0</td>\n",
       "      <td>PI/000024532</td>\n",
       "      <td>Golden Palace</td>\n",
       "      <td>Restaurant/Cafe/Canteen</td>\n",
       "      <td>1</td>\n",
       "      <td>5 South Street</td>\n",
       "      <td>Seaford</td>\n",
       "      <td>East Sussex</td>\n",
       "      <td>...</td>\n",
       "      <td>0.101446</td>\n",
       "      <td>50.770724</td>\n",
       "      <td>None</td>\n",
       "      <td>0001-01-01T00:00:00</td>\n",
       "      <td>0</td>\n",
       "      <td>None</td>\n",
       "      <td>0</td>\n",
       "      <td>0</td>\n",
       "      <td>0</td>\n",
       "      <td>0</td>\n",
       "    </tr>\n",
       "  </tbody>\n",
       "</table>\n",
       "<p>5 rows × 39 columns</p>\n",
       "</div>"
      ],
      "text/plain": [
       "                        _id  FHRSID  ChangesByServerID  \\\n",
       "0  64027ca31fa5aca0ae04b9d4  110681                  0   \n",
       "1  64027ca31fa5aca0ae04bd55  612039                  0   \n",
       "2  64027ca31fa5aca0ae04c05f  730933                  0   \n",
       "3  64027ca31fa5aca0ae04c250  172735                  0   \n",
       "4  64027ca31fa5aca0ae04c25c  172953                  0   \n",
       "\n",
       "  LocalAuthorityBusinessID         BusinessName  \\\n",
       "0                     4029  The Chase Rest Home   \n",
       "1                1970/FOOD           Brenalwood   \n",
       "2                1698/FOOD        Melrose Hotel   \n",
       "3             PI/000023858        Seaford Pizza   \n",
       "4             PI/000024532        Golden Palace   \n",
       "\n",
       "                        BusinessType  BusinessTypeID           AddressLine1  \\\n",
       "0                    Caring Premises               5   5-6 Southfields Road   \n",
       "1                    Caring Premises               5              Hall Lane   \n",
       "2  Hotel/bed & breakfast/guest house            7842  53 Marine Parade East   \n",
       "3             Takeaway/sandwich shop            7844          4 High Street   \n",
       "4            Restaurant/Cafe/Canteen               1         5 South Street   \n",
       "\n",
       "         AddressLine2 AddressLine3  ... geocode.longitude geocode.latitude  \\\n",
       "0          Eastbourne  East Sussex  ...           0.27694        50.769705   \n",
       "1  Walton-on-the-Naze        Essex  ...          1.278721        51.857536   \n",
       "2      Clacton On Sea        Essex  ...           1.15927        51.789429   \n",
       "3             Seaford  East Sussex  ...           0.10202        50.770885   \n",
       "4             Seaford  East Sussex  ...          0.101446        50.770724   \n",
       "\n",
       "  meta.dataSource     meta.extractDate meta.itemCount meta.returncode  \\\n",
       "0            None  0001-01-01T00:00:00              0            None   \n",
       "1            None  0001-01-01T00:00:00              0            None   \n",
       "2            None  0001-01-01T00:00:00              0            None   \n",
       "3            None  0001-01-01T00:00:00              0            None   \n",
       "4            None  0001-01-01T00:00:00              0            None   \n",
       "\n",
       "  meta.totalCount meta.totalPages meta.pageSize meta.pageNumber  \n",
       "0               0               0             0               0  \n",
       "1               0               0             0               0  \n",
       "2               0               0             0               0  \n",
       "3               0               0             0               0  \n",
       "4               0               0             0               0  \n",
       "\n",
       "[5 rows x 39 columns]"
      ]
     },
     "execution_count": 76,
     "metadata": {},
     "output_type": "execute_result"
    }
   ],
   "source": [
    "# Display the first 10 rows of the DataFrame\n",
    "hygiene_df.head()"
   ]
  },
  {
   "cell_type": "markdown",
   "id": "0ef4395a",
   "metadata": {},
   "source": [
    "### 2. Which establishments in London have a `RatingValue` greater than or equal to 4?"
   ]
  },
  {
   "cell_type": "code",
   "execution_count": 176,
   "id": "93c63829",
   "metadata": {},
   "outputs": [
    {
     "data": {
      "text/plain": [
       "33"
      ]
     },
     "execution_count": 176,
     "metadata": {},
     "output_type": "execute_result"
    }
   ],
   "source": [
    "# Find the establishments with London as the Local Authority and has a RatingValue greater than or equal to 4.\n",
    "query4 = coll.find({\"LocalAuthorityName\": {\"$regex\": \"London\"}, \"RatingValue\" : \"4\"})\n",
    "query5 = coll.find({\"LocalAuthorityName\": {\"$regex\": \"London\"}, \"RatingValue\" : \"5\"})\n",
    "\n",
    "results = []\n",
    "\n",
    "for result in query4:\n",
    "    results.append(result)\n",
    "    \n",
    "for result in query5:\n",
    "    results.append(result)\n",
    "\n",
    "#coll.update_many({},[{\"$set\": {\"geocode.longitude\": {\"$toDecimal\":\"$geocode.longitude\"}}}])\n",
    "rat_four = coll.count_documents({\"LocalAuthorityName\": {\"$regex\": \"London\"}, \"RatingValue\" : \"4\"})\n",
    "rat_five = coll.count_documents({\"LocalAuthorityName\": {\"$regex\": \"London\"}, \"RatingValue\" : \"5\"})\n",
    "rat_four + rat_five"
   ]
  },
  {
   "cell_type": "code",
   "execution_count": 177,
   "id": "bd7c1807",
   "metadata": {},
   "outputs": [
    {
     "name": "stdout",
     "output_type": "stream",
     "text": [
      "{'AddressLine1': 'Oak Apple Farm Building 103 Sheernes Docks',\n",
      " 'AddressLine2': 'Sheppy Kent',\n",
      " 'AddressLine3': '',\n",
      " 'AddressLine4': '',\n",
      " 'BusinessName': \"Charlie's\",\n",
      " 'BusinessType': 'Other catering premises',\n",
      " 'BusinessTypeID': 7841,\n",
      " 'ChangesByServerID': 0,\n",
      " 'Distance': 4627.439467780196,\n",
      " 'FHRSID': 621707,\n",
      " 'LocalAuthorityBusinessID': 'PI/000025307',\n",
      " 'LocalAuthorityCode': '508',\n",
      " 'LocalAuthorityEmailAddress': 'publicprotection@cityoflondon.gov.uk',\n",
      " 'LocalAuthorityName': 'City of London Corporation',\n",
      " 'LocalAuthorityWebSite': 'http://www.cityoflondon.gov.uk/Corporation/homepage.htm',\n",
      " 'NewRatingPending': False,\n",
      " 'Phone': '',\n",
      " 'PostCode': 'ME12',\n",
      " 'RatingDate': '2021-10-18T00:00:00',\n",
      " 'RatingKey': 'fhrs_4_en-gb',\n",
      " 'RatingValue': '4',\n",
      " 'RightToReply': '',\n",
      " 'SchemeType': 'FHRS',\n",
      " '_id': ObjectId('64037f7b555fc900eeee15e3'),\n",
      " 'geocode': {'latitude': Decimal128('51.369321'),\n",
      "             'longitude': Decimal128('0.508551')},\n",
      " 'links': [{'href': 'https://api.ratings.food.gov.uk/establishments/621707',\n",
      "            'rel': 'self'}],\n",
      " 'meta': {'dataSource': None,\n",
      "          'extractDate': '0001-01-01T00:00:00',\n",
      "          'itemCount': 0,\n",
      "          'pageNumber': 0,\n",
      "          'pageSize': 0,\n",
      "          'returncode': None,\n",
      "          'totalCount': 0,\n",
      "          'totalPages': 0},\n",
      " 'scores': {'ConfidenceInManagement': 5, 'Hygiene': 5, 'Structural': 10}}\n"
     ]
    }
   ],
   "source": [
    "# Display the first document in the results using pprint\n",
    "pprint.pprint(results[0])"
   ]
  },
  {
   "cell_type": "code",
   "execution_count": 178,
   "id": "07e24ccb",
   "metadata": {},
   "outputs": [
    {
     "data": {
      "text/plain": [
       "33"
      ]
     },
     "execution_count": 178,
     "metadata": {},
     "output_type": "execute_result"
    }
   ],
   "source": [
    "# Convert the result to a Pandas DataFrame\n",
    "london_df = pd.json_normalize(results)\n",
    "\n",
    "# Display the number of rows in the DataFrame\n",
    "len(london_df.index)"
   ]
  },
  {
   "cell_type": "code",
   "execution_count": 179,
   "id": "4bac6dc1",
   "metadata": {},
   "outputs": [
    {
     "data": {
      "text/html": [
       "<div>\n",
       "<style scoped>\n",
       "    .dataframe tbody tr th:only-of-type {\n",
       "        vertical-align: middle;\n",
       "    }\n",
       "\n",
       "    .dataframe tbody tr th {\n",
       "        vertical-align: top;\n",
       "    }\n",
       "\n",
       "    .dataframe thead th {\n",
       "        text-align: right;\n",
       "    }\n",
       "</style>\n",
       "<table border=\"1\" class=\"dataframe\">\n",
       "  <thead>\n",
       "    <tr style=\"text-align: right;\">\n",
       "      <th></th>\n",
       "      <th>_id</th>\n",
       "      <th>FHRSID</th>\n",
       "      <th>ChangesByServerID</th>\n",
       "      <th>LocalAuthorityBusinessID</th>\n",
       "      <th>BusinessName</th>\n",
       "      <th>BusinessType</th>\n",
       "      <th>BusinessTypeID</th>\n",
       "      <th>AddressLine1</th>\n",
       "      <th>AddressLine2</th>\n",
       "      <th>AddressLine3</th>\n",
       "      <th>...</th>\n",
       "      <th>geocode.longitude</th>\n",
       "      <th>geocode.latitude</th>\n",
       "      <th>meta.dataSource</th>\n",
       "      <th>meta.extractDate</th>\n",
       "      <th>meta.itemCount</th>\n",
       "      <th>meta.returncode</th>\n",
       "      <th>meta.totalCount</th>\n",
       "      <th>meta.totalPages</th>\n",
       "      <th>meta.pageSize</th>\n",
       "      <th>meta.pageNumber</th>\n",
       "    </tr>\n",
       "  </thead>\n",
       "  <tbody>\n",
       "    <tr>\n",
       "      <th>0</th>\n",
       "      <td>64037f7b555fc900eeee15e3</td>\n",
       "      <td>621707</td>\n",
       "      <td>0</td>\n",
       "      <td>PI/000025307</td>\n",
       "      <td>Charlie's</td>\n",
       "      <td>Other catering premises</td>\n",
       "      <td>7841</td>\n",
       "      <td>Oak Apple Farm Building 103 Sheernes Docks</td>\n",
       "      <td>Sheppy Kent</td>\n",
       "      <td></td>\n",
       "      <td>...</td>\n",
       "      <td>0.508551</td>\n",
       "      <td>51.369321</td>\n",
       "      <td>None</td>\n",
       "      <td>0001-01-01T00:00:00</td>\n",
       "      <td>0</td>\n",
       "      <td>None</td>\n",
       "      <td>0</td>\n",
       "      <td>0</td>\n",
       "      <td>0</td>\n",
       "      <td>0</td>\n",
       "    </tr>\n",
       "    <tr>\n",
       "      <th>1</th>\n",
       "      <td>64037f7d555fc900eeee2456</td>\n",
       "      <td>293783</td>\n",
       "      <td>0</td>\n",
       "      <td>PI/000002614</td>\n",
       "      <td>Benfleet Motor Yacht Club</td>\n",
       "      <td>Other catering premises</td>\n",
       "      <td>7841</td>\n",
       "      <td>Ferry Road</td>\n",
       "      <td>South Benfleet Essex</td>\n",
       "      <td></td>\n",
       "      <td>...</td>\n",
       "      <td>0.561954</td>\n",
       "      <td>51.543831</td>\n",
       "      <td>None</td>\n",
       "      <td>0001-01-01T00:00:00</td>\n",
       "      <td>0</td>\n",
       "      <td>None</td>\n",
       "      <td>0</td>\n",
       "      <td>0</td>\n",
       "      <td>0</td>\n",
       "      <td>0</td>\n",
       "    </tr>\n",
       "    <tr>\n",
       "      <th>2</th>\n",
       "      <td>64037f8d555fc900eeee5e34</td>\n",
       "      <td>878523</td>\n",
       "      <td>0</td>\n",
       "      <td>PI/000029844</td>\n",
       "      <td>Brick Lane Brews</td>\n",
       "      <td>Restaurant/Cafe/Canteen</td>\n",
       "      <td>1</td>\n",
       "      <td>Air side London City Airport</td>\n",
       "      <td>London</td>\n",
       "      <td></td>\n",
       "      <td>...</td>\n",
       "      <td>0.048006</td>\n",
       "      <td>51.503733</td>\n",
       "      <td>None</td>\n",
       "      <td>0001-01-01T00:00:00</td>\n",
       "      <td>0</td>\n",
       "      <td>None</td>\n",
       "      <td>0</td>\n",
       "      <td>0</td>\n",
       "      <td>0</td>\n",
       "      <td>0</td>\n",
       "    </tr>\n",
       "    <tr>\n",
       "      <th>3</th>\n",
       "      <td>64037f8f555fc900eeee6500</td>\n",
       "      <td>1392440</td>\n",
       "      <td>0</td>\n",
       "      <td>PI/000037382</td>\n",
       "      <td>La Nonna lina</td>\n",
       "      <td>Other catering premises</td>\n",
       "      <td>7841</td>\n",
       "      <td>Dock Road</td>\n",
       "      <td>London</td>\n",
       "      <td>Charlton</td>\n",
       "      <td>...</td>\n",
       "      <td>0.0157549995929003</td>\n",
       "      <td>51.5059814453125</td>\n",
       "      <td>None</td>\n",
       "      <td>0001-01-01T00:00:00</td>\n",
       "      <td>0</td>\n",
       "      <td>None</td>\n",
       "      <td>0</td>\n",
       "      <td>0</td>\n",
       "      <td>0</td>\n",
       "      <td>0</td>\n",
       "    </tr>\n",
       "    <tr>\n",
       "      <th>4</th>\n",
       "      <td>64037f7c555fc900eeee1909</td>\n",
       "      <td>1130836</td>\n",
       "      <td>0</td>\n",
       "      <td>PI/000034075</td>\n",
       "      <td>Mv City Cruises Erasmus</td>\n",
       "      <td>Other catering premises</td>\n",
       "      <td>7841</td>\n",
       "      <td>Cherry Garden Pier</td>\n",
       "      <td>Cherry Garden Street Rotherhithe</td>\n",
       "      <td>Charlton</td>\n",
       "      <td>...</td>\n",
       "      <td>0.249255999922752</td>\n",
       "      <td>51.1236228942871</td>\n",
       "      <td>None</td>\n",
       "      <td>0001-01-01T00:00:00</td>\n",
       "      <td>0</td>\n",
       "      <td>None</td>\n",
       "      <td>0</td>\n",
       "      <td>0</td>\n",
       "      <td>0</td>\n",
       "      <td>0</td>\n",
       "    </tr>\n",
       "  </tbody>\n",
       "</table>\n",
       "<p>5 rows × 38 columns</p>\n",
       "</div>"
      ],
      "text/plain": [
       "                        _id   FHRSID  ChangesByServerID  \\\n",
       "0  64037f7b555fc900eeee15e3   621707                  0   \n",
       "1  64037f7d555fc900eeee2456   293783                  0   \n",
       "2  64037f8d555fc900eeee5e34   878523                  0   \n",
       "3  64037f8f555fc900eeee6500  1392440                  0   \n",
       "4  64037f7c555fc900eeee1909  1130836                  0   \n",
       "\n",
       "  LocalAuthorityBusinessID               BusinessName  \\\n",
       "0             PI/000025307                  Charlie's   \n",
       "1             PI/000002614  Benfleet Motor Yacht Club   \n",
       "2             PI/000029844           Brick Lane Brews   \n",
       "3             PI/000037382              La Nonna lina   \n",
       "4             PI/000034075    Mv City Cruises Erasmus   \n",
       "\n",
       "              BusinessType  BusinessTypeID  \\\n",
       "0  Other catering premises            7841   \n",
       "1  Other catering premises            7841   \n",
       "2  Restaurant/Cafe/Canteen               1   \n",
       "3  Other catering premises            7841   \n",
       "4  Other catering premises            7841   \n",
       "\n",
       "                                 AddressLine1  \\\n",
       "0  Oak Apple Farm Building 103 Sheernes Docks   \n",
       "1                                  Ferry Road   \n",
       "2                Air side London City Airport   \n",
       "3                                   Dock Road   \n",
       "4                          Cherry Garden Pier   \n",
       "\n",
       "                       AddressLine2 AddressLine3  ...   geocode.longitude  \\\n",
       "0                       Sheppy Kent               ...            0.508551   \n",
       "1              South Benfleet Essex               ...            0.561954   \n",
       "2                            London               ...            0.048006   \n",
       "3                            London     Charlton  ...  0.0157549995929003   \n",
       "4  Cherry Garden Street Rotherhithe     Charlton  ...   0.249255999922752   \n",
       "\n",
       "   geocode.latitude meta.dataSource     meta.extractDate meta.itemCount  \\\n",
       "0         51.369321            None  0001-01-01T00:00:00              0   \n",
       "1         51.543831            None  0001-01-01T00:00:00              0   \n",
       "2         51.503733            None  0001-01-01T00:00:00              0   \n",
       "3  51.5059814453125            None  0001-01-01T00:00:00              0   \n",
       "4  51.1236228942871            None  0001-01-01T00:00:00              0   \n",
       "\n",
       "  meta.returncode meta.totalCount meta.totalPages meta.pageSize  \\\n",
       "0            None               0               0             0   \n",
       "1            None               0               0             0   \n",
       "2            None               0               0             0   \n",
       "3            None               0               0             0   \n",
       "4            None               0               0             0   \n",
       "\n",
       "  meta.pageNumber  \n",
       "0               0  \n",
       "1               0  \n",
       "2               0  \n",
       "3               0  \n",
       "4               0  \n",
       "\n",
       "[5 rows x 38 columns]"
      ]
     },
     "execution_count": 179,
     "metadata": {},
     "output_type": "execute_result"
    }
   ],
   "source": [
    "# Display the first 10 rows of the DataFrame\n",
    "london_df.head()"
   ]
  },
  {
   "cell_type": "markdown",
   "id": "4e570caf",
   "metadata": {},
   "source": [
    "### 3. What are the top 5 establishments with a `RatingValue` rating value of '5', sorted by lowest hygiene score, nearest to the new restaurant added, \"Penang Flavours\"?"
   ]
  },
  {
   "cell_type": "code",
   "execution_count": null,
   "id": "7f599f3d",
   "metadata": {},
   "outputs": [],
   "source": [
    "# Search within 0.01 degree on either side of the latitude and longitude.\n",
    "# Rating value must equal 5\n",
    "# Sort by hygiene score\n",
    "\n",
    "degree_search = 0.01\n",
    "latitude = \n",
    "longitude = \n",
    "\n",
    "query = coll.find(\"RatingValue\" : \"5\", \"geocode.latitude\": , \"geocode.longitude\": )\n",
    "sort =  \n",
    "\n",
    "# Print the results\n",
    "results = []\n",
    "\n",
    "for result in sort:\n",
    "    results.append(result)\n",
    "    \n",
    "pprint.pprint(results)"
   ]
  },
  {
   "cell_type": "code",
   "execution_count": null,
   "id": "a6ad16f7",
   "metadata": {},
   "outputs": [],
   "source": [
    "# Convert result to Pandas DataFrame\n",
    "nearby_df = pd.json_normalize(results)"
   ]
  },
  {
   "cell_type": "markdown",
   "id": "67281254",
   "metadata": {},
   "source": [
    "### 4. How many establishments in each Local Authority area have a hygiene score of 0?"
   ]
  },
  {
   "cell_type": "code",
   "execution_count": null,
   "id": "4eeb227e",
   "metadata": {},
   "outputs": [],
   "source": [
    "# Create a pipeline that: \n",
    "# 1. Matches establishments with a hygiene score of 0\n",
    "# 2. Groups the matches by Local Authority\n",
    "# 3. Sorts the matches from highest to lowest\n",
    "\n",
    "# Print the number of documents in the result\n"
   ]
  },
  {
   "cell_type": "code",
   "execution_count": null,
   "id": "fbc2b7b9",
   "metadata": {},
   "outputs": [],
   "source": [
    "# Print the first 10 results"
   ]
  },
  {
   "cell_type": "code",
   "execution_count": null,
   "id": "d8aab364",
   "metadata": {},
   "outputs": [],
   "source": [
    "# Convert the result to a Pandas DataFrame\n",
    "la_hygiene_df = pd.json_normalize(results)\n",
    "\n",
    "# Display the number of rows in the DataFrame\n",
    "len(la_hygiene_df.index)"
   ]
  },
  {
   "cell_type": "code",
   "execution_count": null,
   "id": "f384f842",
   "metadata": {},
   "outputs": [],
   "source": [
    "# Display the first 10 rows of the DataFrame\n",
    "la_hygiene_df.head()"
   ]
  }
 ],
 "metadata": {
  "kernelspec": {
   "display_name": "Python 3 (ipykernel)",
   "language": "python",
   "name": "python3"
  },
  "language_info": {
   "codemirror_mode": {
    "name": "ipython",
    "version": 3
   },
   "file_extension": ".py",
   "mimetype": "text/x-python",
   "name": "python",
   "nbconvert_exporter": "python",
   "pygments_lexer": "ipython3",
   "version": "3.7.13"
  }
 },
 "nbformat": 4,
 "nbformat_minor": 5
}
